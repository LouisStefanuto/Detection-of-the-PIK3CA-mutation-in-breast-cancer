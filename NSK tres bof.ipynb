{
 "cells": [
  {
   "cell_type": "markdown",
   "metadata": {},
   "source": [
    "Before starting, you will need to install some packages to reproduce the baseline."
   ]
  },
  {
   "cell_type": "code",
   "execution_count": 121,
   "metadata": {
    "ExecuteTime": {
     "end_time": "2022-10-24T07:22:50.448803Z",
     "start_time": "2022-10-24T07:22:49.285830Z"
    }
   },
   "outputs": [],
   "source": [
    "from pathlib import Path\n",
    "from tqdm import tqdm\n",
    "\n",
    "import numpy as np\n",
    "import pandas as pd\n",
    "\n",
    "import matplotlib.pyplot as plt\n",
    "\n",
    "from sklearn.metrics import roc_auc_score\n",
    "from sklearn.linear_model import LogisticRegression\n",
    "from sklearn.model_selection import StratifiedKFold\n",
    "from sklearn.decomposition import PCA\n",
    "from sklearn.cluster import KMeans\n",
    "from sklearn.preprocessing import StandardScaler"
   ]
  },
  {
   "cell_type": "code",
   "execution_count": 111,
   "metadata": {},
   "outputs": [],
   "source": [
    "import misvm"
   ]
  },
  {
   "cell_type": "markdown",
   "metadata": {},
   "source": [
    "# Data architecture"
   ]
  },
  {
   "cell_type": "markdown",
   "metadata": {
    "ExecuteTime": {
     "end_time": "2022-10-20T15:29:41.479814Z",
     "start_time": "2022-10-20T15:29:41.472869Z"
    }
   },
   "source": [
    "After downloading or unzipping the downloaded files, your data tree must have the following architecture in order to properly run the notebook:\n",
    "```\n",
    "your_data_dir/\n",
    "├── train_output.csv\n",
    "├── train_input/\n",
    "│   ├── images/\n",
    "│       ├── ID_001/\n",
    "│           ├── ID_001_tile_000_17_170_43.jpg\n",
    "...\n",
    "│   └── moco_features/\n",
    "│       ├── ID_001.npy\n",
    "...\n",
    "├── test_input/\n",
    "│   ├── images/\n",
    "│       ├── ID_003/\n",
    "│           ├── ID_003_tile_000_16_114_93.jpg\n",
    "...\n",
    "│   └── moco_features/\n",
    "│       ├── ID_003.npy\n",
    "...\n",
    "├── supplementary_data/\n",
    "│   ├── baseline.ipynb\n",
    "│   ├── test_metadata.csv\n",
    "│   └── train_metadata.csv\n",
    "```\n",
    "\n",
    "For instance, `your_data_dir = /storage/DATA_CHALLENGE_ENS_2022/`\n"
   ]
  },
  {
   "cell_type": "markdown",
   "metadata": {},
   "source": [
    "This notebook aims to reproduce the baseline method on this challenge called `MeanPool`. This method consists in a logistic regression learnt on top of tile-level MoCo V2 features averaged over the slides.\n",
    "\n",
    "For a given slide $s$ with $N_s=1000$ tiles and corresponding MoCo V2 features $\\mathbf{K_s} \\in \\mathbb{R}^{(1000,\\,2048)}$, a slide-level average is performed over the tile axis.\n",
    "\n",
    "For $j=1,...,2048$:\n",
    "\n",
    "$$\\overline{\\mathbf{k_s}}(j) = \\frac{1}{N_s} \\sum_{i=1}^{N_s} \\mathbf{K_s}(i, j) $$\n",
    "\n",
    "Thus, the training input data for MeanPool consists of $S_{\\text{train}}=344$ mean feature vectors $\\mathbf{k_s}$, $s=1,...,S_{\\text{train}}$, where $S_{\\text{train}}$ denotes the number of training samples."
   ]
  },
  {
   "cell_type": "markdown",
   "metadata": {
    "ExecuteTime": {
     "end_time": "2022-10-20T09:25:58.896288Z",
     "start_time": "2022-10-20T09:25:58.161711Z"
    }
   },
   "source": [
    "## Data loading"
   ]
  },
  {
   "cell_type": "code",
   "execution_count": 122,
   "metadata": {
    "ExecuteTime": {
     "end_time": "2022-10-24T07:22:50.479040Z",
     "start_time": "2022-10-24T07:22:50.450662Z"
    }
   },
   "outputs": [
    {
     "name": "stdout",
     "output_type": "stream",
     "text": [
      "Training data dimensions: (344, 4)\n"
     ]
    },
    {
     "data": {
      "text/html": [
       "<div>\n",
       "<style scoped>\n",
       "    .dataframe tbody tr th:only-of-type {\n",
       "        vertical-align: middle;\n",
       "    }\n",
       "\n",
       "    .dataframe tbody tr th {\n",
       "        vertical-align: top;\n",
       "    }\n",
       "\n",
       "    .dataframe thead th {\n",
       "        text-align: right;\n",
       "    }\n",
       "</style>\n",
       "<table border=\"1\" class=\"dataframe\">\n",
       "  <thead>\n",
       "    <tr style=\"text-align: right;\">\n",
       "      <th></th>\n",
       "      <th>Sample ID</th>\n",
       "      <th>Patient ID</th>\n",
       "      <th>Center ID</th>\n",
       "      <th>Target</th>\n",
       "    </tr>\n",
       "  </thead>\n",
       "  <tbody>\n",
       "    <tr>\n",
       "      <th>0</th>\n",
       "      <td>ID_001.npy</td>\n",
       "      <td>P_001</td>\n",
       "      <td>C_1</td>\n",
       "      <td>0</td>\n",
       "    </tr>\n",
       "    <tr>\n",
       "      <th>1</th>\n",
       "      <td>ID_002.npy</td>\n",
       "      <td>P_002</td>\n",
       "      <td>C_2</td>\n",
       "      <td>1</td>\n",
       "    </tr>\n",
       "    <tr>\n",
       "      <th>2</th>\n",
       "      <td>ID_005.npy</td>\n",
       "      <td>P_005</td>\n",
       "      <td>C_5</td>\n",
       "      <td>0</td>\n",
       "    </tr>\n",
       "    <tr>\n",
       "      <th>3</th>\n",
       "      <td>ID_006.npy</td>\n",
       "      <td>P_006</td>\n",
       "      <td>C_5</td>\n",
       "      <td>0</td>\n",
       "    </tr>\n",
       "    <tr>\n",
       "      <th>4</th>\n",
       "      <td>ID_007.npy</td>\n",
       "      <td>P_007</td>\n",
       "      <td>C_2</td>\n",
       "      <td>1</td>\n",
       "    </tr>\n",
       "  </tbody>\n",
       "</table>\n",
       "</div>"
      ],
      "text/plain": [
       "    Sample ID Patient ID Center ID  Target\n",
       "0  ID_001.npy      P_001       C_1       0\n",
       "1  ID_002.npy      P_002       C_2       1\n",
       "2  ID_005.npy      P_005       C_5       0\n",
       "3  ID_006.npy      P_006       C_5       0\n",
       "4  ID_007.npy      P_007       C_2       1"
      ]
     },
     "execution_count": 122,
     "metadata": {},
     "output_type": "execute_result"
    }
   ],
   "source": [
    "# put your own path to the data root directory (see example in `Data architecture` section)\n",
    "data_dir = Path(\"../\")\n",
    "\n",
    "# load the training and testing data sets\n",
    "train_features_dir = data_dir / \"train_input\" / \"moco_features\"\n",
    "test_features_dir = data_dir / \"test_input\" / \"moco_features\"\n",
    "df_train = pd.read_csv(data_dir  / \"supplementary_data\" / \"train_metadata.csv\")\n",
    "df_test = pd.read_csv(data_dir  / \"supplementary_data\" / \"test_metadata.csv\")\n",
    "\n",
    "# concatenate y_train and df_train\n",
    "y_train = pd.read_csv(data_dir  / \"train_output.csv\")\n",
    "df_train = df_train.merge(y_train, on=\"Sample ID\")\n",
    "\n",
    "print(f\"Training data dimensions: {df_train.shape}\")  # (344, 4)\n",
    "df_train.head()"
   ]
  },
  {
   "cell_type": "markdown",
   "metadata": {},
   "source": [
    "## Data processing"
   ]
  },
  {
   "cell_type": "markdown",
   "metadata": {},
   "source": [
    "We now load the features matrices $\\mathbf{K_s} \\in \\mathbb{R}^{(1000,\\,2048)}$ for $s=1,...,344$ and perform slide-level averaging. This operation should take at most 5 minutes on your laptop."
   ]
  },
  {
   "cell_type": "code",
   "execution_count": 123,
   "metadata": {
    "ExecuteTime": {
     "end_time": "2022-10-24T07:22:52.890700Z",
     "start_time": "2022-10-24T07:22:50.480795Z"
    }
   },
   "outputs": [
    {
     "name": "stderr",
     "output_type": "stream",
     "text": [
      "100%|██████████| 344/344 [00:01<00:00, 201.65it/s]\n"
     ]
    }
   ],
   "source": [
    "X_train = []\n",
    "y_train = []\n",
    "centers_train = []\n",
    "patients_train = []\n",
    "\n",
    "for sample, label, center, patient in tqdm(\n",
    "    df_train[[\"Sample ID\", \"Target\", \"Center ID\", \"Patient ID\"]].values\n",
    "):\n",
    "    # load the coordinates and features (1000, 3+2048)\n",
    "    _features = np.load(train_features_dir / sample)\n",
    "    # get coordinates (zoom level, tile x-coord on the slide, tile y-coord on the slide)\n",
    "    # and the MoCo V2 features\n",
    "    coordinates, features = _features[:, :3], _features[:, 3:]  # Ks\n",
    "    # slide-level averaging\n",
    "    #X_train.append(np.mean(features, axis=0))\n",
    "    X_train.append(features)\n",
    "    y_train.append(label)\n",
    "    centers_train.append(center)\n",
    "    patients_train.append(patient)\n",
    "\n",
    "# convert to numpy arrays\n",
    "X_train = np.array(X_train)\n",
    "y_train = np.array(y_train)\n",
    "centers_train = np.array(centers_train)\n",
    "patients_train = np.array(patients_train)"
   ]
  },
  {
   "cell_type": "code",
   "execution_count": 129,
   "metadata": {},
   "outputs": [],
   "source": [
    "X_train_unraveled = X_train.reshape(-1, 2048)"
   ]
  },
  {
   "cell_type": "code",
   "execution_count": 145,
   "metadata": {},
   "outputs": [
    {
     "data": {
      "text/html": [
       "<style>#sk-container-id-5 {color: black;background-color: white;}#sk-container-id-5 pre{padding: 0;}#sk-container-id-5 div.sk-toggleable {background-color: white;}#sk-container-id-5 label.sk-toggleable__label {cursor: pointer;display: block;width: 100%;margin-bottom: 0;padding: 0.3em;box-sizing: border-box;text-align: center;}#sk-container-id-5 label.sk-toggleable__label-arrow:before {content: \"▸\";float: left;margin-right: 0.25em;color: #696969;}#sk-container-id-5 label.sk-toggleable__label-arrow:hover:before {color: black;}#sk-container-id-5 div.sk-estimator:hover label.sk-toggleable__label-arrow:before {color: black;}#sk-container-id-5 div.sk-toggleable__content {max-height: 0;max-width: 0;overflow: hidden;text-align: left;background-color: #f0f8ff;}#sk-container-id-5 div.sk-toggleable__content pre {margin: 0.2em;color: black;border-radius: 0.25em;background-color: #f0f8ff;}#sk-container-id-5 input.sk-toggleable__control:checked~div.sk-toggleable__content {max-height: 200px;max-width: 100%;overflow: auto;}#sk-container-id-5 input.sk-toggleable__control:checked~label.sk-toggleable__label-arrow:before {content: \"▾\";}#sk-container-id-5 div.sk-estimator input.sk-toggleable__control:checked~label.sk-toggleable__label {background-color: #d4ebff;}#sk-container-id-5 div.sk-label input.sk-toggleable__control:checked~label.sk-toggleable__label {background-color: #d4ebff;}#sk-container-id-5 input.sk-hidden--visually {border: 0;clip: rect(1px 1px 1px 1px);clip: rect(1px, 1px, 1px, 1px);height: 1px;margin: -1px;overflow: hidden;padding: 0;position: absolute;width: 1px;}#sk-container-id-5 div.sk-estimator {font-family: monospace;background-color: #f0f8ff;border: 1px dotted black;border-radius: 0.25em;box-sizing: border-box;margin-bottom: 0.5em;}#sk-container-id-5 div.sk-estimator:hover {background-color: #d4ebff;}#sk-container-id-5 div.sk-parallel-item::after {content: \"\";width: 100%;border-bottom: 1px solid gray;flex-grow: 1;}#sk-container-id-5 div.sk-label:hover label.sk-toggleable__label {background-color: #d4ebff;}#sk-container-id-5 div.sk-serial::before {content: \"\";position: absolute;border-left: 1px solid gray;box-sizing: border-box;top: 0;bottom: 0;left: 50%;z-index: 0;}#sk-container-id-5 div.sk-serial {display: flex;flex-direction: column;align-items: center;background-color: white;padding-right: 0.2em;padding-left: 0.2em;position: relative;}#sk-container-id-5 div.sk-item {position: relative;z-index: 1;}#sk-container-id-5 div.sk-parallel {display: flex;align-items: stretch;justify-content: center;background-color: white;position: relative;}#sk-container-id-5 div.sk-item::before, #sk-container-id-5 div.sk-parallel-item::before {content: \"\";position: absolute;border-left: 1px solid gray;box-sizing: border-box;top: 0;bottom: 0;left: 50%;z-index: -1;}#sk-container-id-5 div.sk-parallel-item {display: flex;flex-direction: column;z-index: 1;position: relative;background-color: white;}#sk-container-id-5 div.sk-parallel-item:first-child::after {align-self: flex-end;width: 50%;}#sk-container-id-5 div.sk-parallel-item:last-child::after {align-self: flex-start;width: 50%;}#sk-container-id-5 div.sk-parallel-item:only-child::after {width: 0;}#sk-container-id-5 div.sk-dashed-wrapped {border: 1px dashed gray;margin: 0 0.4em 0.5em 0.4em;box-sizing: border-box;padding-bottom: 0.4em;background-color: white;}#sk-container-id-5 div.sk-label label {font-family: monospace;font-weight: bold;display: inline-block;line-height: 1.2em;}#sk-container-id-5 div.sk-label-container {text-align: center;}#sk-container-id-5 div.sk-container {/* jupyter's `normalize.less` sets `[hidden] { display: none; }` but bootstrap.min.css set `[hidden] { display: none !important; }` so we also need the `!important` here to be able to override the default hidden behavior on the sphinx rendered scikit-learn.org. See: https://github.com/scikit-learn/scikit-learn/issues/21755 */display: inline-block !important;position: relative;}#sk-container-id-5 div.sk-text-repr-fallback {display: none;}</style><div id=\"sk-container-id-5\" class=\"sk-top-container\"><div class=\"sk-text-repr-fallback\"><pre>PCA(n_components=100, random_state=42)</pre><b>In a Jupyter environment, please rerun this cell to show the HTML representation or trust the notebook. <br />On GitHub, the HTML representation is unable to render, please try loading this page with nbviewer.org.</b></div><div class=\"sk-container\" hidden><div class=\"sk-item\"><div class=\"sk-estimator sk-toggleable\"><input class=\"sk-toggleable__control sk-hidden--visually\" id=\"sk-estimator-id-5\" type=\"checkbox\" checked><label for=\"sk-estimator-id-5\" class=\"sk-toggleable__label sk-toggleable__label-arrow\">PCA</label><div class=\"sk-toggleable__content\"><pre>PCA(n_components=100, random_state=42)</pre></div></div></div></div></div>"
      ],
      "text/plain": [
       "PCA(n_components=100, random_state=42)"
      ]
     },
     "execution_count": 145,
     "metadata": {},
     "output_type": "execute_result"
    }
   ],
   "source": [
    "n_comp = 100\n",
    "pca = PCA(n_components = n_comp, random_state=42)\n",
    "\n",
    "pca.fit(X_train_unraveled)"
   ]
  },
  {
   "cell_type": "code",
   "execution_count": 146,
   "metadata": {},
   "outputs": [
    {
     "name": "stdout",
     "output_type": "stream",
     "text": [
      "La proportion de variance expliquée par les 2 premières composantes est de: 0.15743099363179397\n",
      "On a 75.28654602478407% de la variance expliquée\n"
     ]
    },
    {
     "data": {
      "image/png": "[encoded data removed]",
      "text/plain": [
       "<Figure size 1000x500 with 2 Axes>"
      ]
     },
     "metadata": {},
     "output_type": "display_data"
    }
   ],
   "source": [
    "plt.figure(figsize = (10, 5))\n",
    "plt.subplot(1, 2, 1)\n",
    "plt.plot(np.arange(n_comp), pca.explained_variance_ratio_, marker='o')\n",
    "plt.xlabel(\"Nombre de composantes principales\")\n",
    "plt.ylabel(\"Proportion de variance expliquée\")\n",
    "plt.subplot(1, 2, 2)\n",
    "plt.plot(np.arange(n_comp), np.cumsum(pca.explained_variance_ratio_), marker='o')\n",
    "plt.axhline(0.95, color = \"red\")\n",
    "plt.xlabel(\"Nombre de composantes principales\")\n",
    "plt.title(\"Proportion cumulative de variance expliquée\")\n",
    "print(f\"La proportion de variance expliquée par les 2 premières composantes est de: {np.sum(pca.explained_variance_ratio_[:2])}\")\n",
    "\n",
    "a = 0\n",
    "i = 0\n",
    "for i in range(n_comp):\n",
    "    a += pca.explained_variance_ratio_[i]\n",
    "    i+=1\n",
    "print(f\"On a {a*100}% de la variance expliquée\")"
   ]
  },
  {
   "cell_type": "code",
   "execution_count": 147,
   "metadata": {},
   "outputs": [],
   "source": [
    "X_train_transformed = pca.transform(X_train_unraveled)\n",
    "X_train_transformed = X_train_transformed.reshape((344, 1000, n_comp))"
   ]
  },
  {
   "attachments": {},
   "cell_type": "markdown",
   "metadata": {},
   "source": [
    "# Clustering on tiles"
   ]
  },
  {
   "cell_type": "code",
   "execution_count": 133,
   "metadata": {},
   "outputs": [
    {
     "name": "stderr",
     "output_type": "stream",
     "text": [
      "100%|██████████| 344/344 [00:38<00:00,  9.00it/s]\n"
     ]
    }
   ],
   "source": [
    "n_centroids = 10\n",
    "X_train_transformed_less_tiles = np.zeros((344, n_centroids, n_comp))\n",
    "\n",
    "for i in tqdm(range(344)):\n",
    "    kmeans = KMeans(n_clusters=n_centroids, random_state=42).fit(X_train_transformed[i])\n",
    "    list_labels = kmeans.labels_.tolist()\n",
    "    X_train_transformed_less_tiles[i] = np.array(kmeans.cluster_centers_)\n"
   ]
  },
  {
   "attachments": {},
   "cell_type": "markdown",
   "metadata": {},
   "source": [
    "# Multiple Instance SVM Training"
   ]
  },
  {
   "cell_type": "code",
   "execution_count": 159,
   "metadata": {},
   "outputs": [],
   "source": [
    "classifier = misvm.NSK(kernel='linear', C=1.0)"
   ]
  },
  {
   "cell_type": "code",
   "execution_count": 154,
   "metadata": {},
   "outputs": [
    {
     "name": "stdout",
     "output_type": "stream",
     "text": [
      "Setup QP...\n",
      "Solving QP...\n",
      "     pcost       dcost       gap    pres   dres\n",
      " 0: -9.7219e+01 -2.2843e+00  3e+03  5e+01  3e-12\n",
      " 1: -1.5070e+00 -2.2823e+00  3e+01  6e-01  3e-12\n",
      " 2: -5.2648e-01 -2.0294e+00  4e+00  5e-02  2e-13\n",
      " 3: -4.1595e-01 -1.0996e+00  8e-01  3e-03  1e-14\n",
      " 4: -4.6999e-01 -6.1107e-01  1e-01  5e-04  7e-15\n",
      " 5: -5.0285e-01 -5.3817e-01  4e-02  1e-04  7e-15\n",
      " 6: -5.1233e-01 -5.1838e-01  6e-03  1e-05  7e-15\n",
      " 7: -5.1421e-01 -5.1491e-01  7e-04  8e-07  8e-15\n",
      " 8: -5.1444e-01 -5.1453e-01  9e-05  9e-08  7e-15\n",
      " 9: -5.1447e-01 -5.1448e-01  5e-06  5e-09  8e-15\n",
      "10: -5.1448e-01 -5.1448e-01  1e-07  6e-11  8e-15\n",
      "Optimal solution found.\n"
     ]
    }
   ],
   "source": [
    "classifier.fit(X_train_transformed[:, ::50, :], 2*y_train - 1)"
   ]
  },
  {
   "cell_type": "code",
   "execution_count": 158,
   "metadata": {},
   "outputs": [
    {
     "data": {
      "text/plain": [
       "0.8023255813953488"
      ]
     },
     "execution_count": 158,
     "metadata": {},
     "output_type": "execute_result"
    }
   ],
   "source": [
    "y_predict = classifier.predict(X_train_transformed[:, ::50, :])\n",
    "np.average(np.sign(y_predict) == 2*y_train - 1)"
   ]
  },
  {
   "cell_type": "code",
   "execution_count": 73,
   "metadata": {},
   "outputs": [
    {
     "data": {
      "text/plain": [
       "array([0.12334988, 0.58164512, 0.        , 0.12337656, 0.90765656,\n",
       "       0.12334984, 0.        , 0.16504792, 0.22361179, 0.10600304,\n",
       "       0.1233832 , 0.67288353, 0.26350879, 0.80449681, 0.77505871,\n",
       "       0.16119066, 0.1305295 , 0.67594932, 0.28847679, 0.30370324,\n",
       "       0.46296717, 0.        , 0.65917585, 0.30739505, 0.19667606,\n",
       "       0.25903747, 0.96568172, 0.        , 0.84993432, 0.34956155,\n",
       "       0.        , 0.38841677, 0.        , 0.12335503, 0.37182756,\n",
       "       0.40641378, 0.11580922, 0.        , 0.        , 0.03183475,\n",
       "       0.        , 0.07038087, 0.62477908, 0.12777901, 0.07237463,\n",
       "       0.40402318, 1.        , 0.76455637, 0.12338351, 0.1214049 ,\n",
       "       0.        , 0.59163469, 0.41135706, 0.96252837, 0.64861461,\n",
       "       0.30275197, 0.3499494 , 0.23788122, 0.62134448, 0.51123259,\n",
       "       1.        , 0.77969345, 0.10418168, 0.        , 0.58521385,\n",
       "       0.12337457, 0.12334786, 0.97103554, 0.37919459, 0.30749289,\n",
       "       0.899226  , 0.12334785, 0.12337873, 0.35432782, 0.12334222,\n",
       "       0.23868356, 0.91686338, 0.26182272, 0.12334459, 0.85123933,\n",
       "       0.43023017, 0.        , 0.24125567, 0.12337359, 0.1233477 ,\n",
       "       0.86501163, 0.21549805, 0.        , 0.12335083, 0.45888195,\n",
       "       0.71509277, 1.        , 0.52786038, 0.32500331, 0.42882494,\n",
       "       1.        , 0.54011316, 0.75759877, 0.50995637, 0.        ,\n",
       "       0.04021105, 0.37922281, 1.        , 0.1233454 , 0.78381096,\n",
       "       1.        , 0.71825208, 0.15947042, 0.12335401, 0.71737132,\n",
       "       0.        , 0.35049107, 0.        , 0.45210264, 0.55974774,\n",
       "       0.        , 0.20329735, 0.36135336, 1.        , 0.81025002,\n",
       "       0.        , 0.12350522, 0.58185084, 0.5410056 , 0.        ,\n",
       "       0.04427458, 0.70535231, 0.44377946, 0.79806636, 0.12337546,\n",
       "       0.43937764, 0.29070412, 0.08859598, 0.12334689, 0.22612089,\n",
       "       0.10985907, 1.        , 0.12336901, 0.08866469, 0.16780721,\n",
       "       0.8524795 , 0.        , 0.32783529, 0.96279019, 0.29728028,\n",
       "       0.39449581, 0.22184113, 0.12335014, 0.95753501, 0.        ,\n",
       "       0.69719655, 0.1233519 , 0.08459803, 0.59044367, 0.31176832,\n",
       "       0.12336084, 0.36481187, 0.        , 0.12335858, 0.        ,\n",
       "       1.        , 1.        , 0.47425994, 0.79028474, 0.39415959,\n",
       "       0.        , 0.80800086, 0.        , 0.03097451, 0.12335927,\n",
       "       0.68823796, 0.6901705 , 0.        , 0.65842395, 1.        ,\n",
       "       0.92006698, 0.10692646, 0.17713739, 0.        , 0.12216971,\n",
       "       0.7064865 , 0.12336101, 0.32667889, 0.19397275, 0.55502139,\n",
       "       0.12334689, 0.8956463 , 0.        , 0.12336704, 0.88298659,\n",
       "       0.37897148, 0.26273367, 0.07948303, 0.11909628, 0.27175097,\n",
       "       0.11873331, 0.09895274, 0.297754  , 0.05234233, 0.12336394,\n",
       "       0.74781887, 0.42908821, 0.760522  , 0.76801583, 0.61682213,\n",
       "       0.65198476, 0.62465786, 0.86252072, 1.        , 0.        ,\n",
       "       0.17888239, 0.9405969 , 0.12336113, 0.        , 0.10803393,\n",
       "       0.12337788, 0.        , 0.85865161, 0.48710591, 0.80987391,\n",
       "       0.36425479, 0.22992625, 0.24045811, 0.32673217, 1.        ,\n",
       "       0.04966037, 1.        , 0.57331117, 0.02775047, 0.12335127,\n",
       "       0.44278662, 0.        , 0.44605252, 0.24106364, 0.02227358,\n",
       "       0.2884799 , 0.05502915, 0.63578632, 0.13069999, 0.73246302,\n",
       "       0.25223315, 1.        , 0.63946815, 0.21792155, 0.12335482,\n",
       "       0.35674712, 0.23382442, 0.12333268, 0.22791942, 0.24446992,\n",
       "       0.24865923, 0.45320531, 0.12335466, 0.08325993, 0.53569086,\n",
       "       0.25432542, 0.31301083, 0.37090067, 0.52631734, 0.48929945,\n",
       "       0.23932563, 0.12335098, 0.12334818, 0.34306008, 0.40800041,\n",
       "       0.47170231, 0.64125217, 0.04401413, 0.        , 0.50564056,\n",
       "       0.3011976 , 0.        , 0.1233802 , 0.        , 0.60940076,\n",
       "       0.12478188, 0.2208129 , 0.        , 0.15489804, 0.11709435,\n",
       "       0.54895592, 0.02990184, 0.5583004 , 0.32950188, 0.12338346,\n",
       "       0.90215194, 0.21920894, 0.62750857, 0.47236141, 0.        ,\n",
       "       0.71408624, 0.82294437, 0.39542536, 0.15720217, 1.        ,\n",
       "       0.36546619, 1.        , 0.08585751, 0.16263279, 1.        ,\n",
       "       0.45366463, 1.        , 1.        , 0.        , 0.83148866,\n",
       "       0.00186194, 0.65421292, 0.12335013, 0.63356781, 0.38029088,\n",
       "       0.04870436, 0.65476106, 0.30810229, 0.37017356, 0.        ,\n",
       "       0.12335196, 0.17525435, 0.1179538 , 0.        , 0.12546659,\n",
       "       0.56566231, 0.        , 0.        , 0.        , 0.22520598,\n",
       "       1.        , 0.80341095, 1.        , 0.28507128, 0.42830502,\n",
       "       0.        , 0.14002592, 0.54227453, 0.23147765, 0.36975555,\n",
       "       1.        , 0.56679118, 0.38387463, 0.57646942, 0.23372889,\n",
       "       0.41021763, 0.43263287, 0.86465233, 0.00543596])"
      ]
     },
     "execution_count": 73,
     "metadata": {},
     "output_type": "execute_result"
    }
   ],
   "source": [
    "y_predict"
   ]
  },
  {
   "cell_type": "markdown",
   "metadata": {},
   "source": [
    "## 5-fold cross validation"
   ]
  },
  {
   "cell_type": "code",
   "execution_count": 161,
   "metadata": {
    "ExecuteTime": {
     "end_time": "2022-10-24T07:22:52.905566Z",
     "start_time": "2022-10-24T07:22:52.893435Z"
    }
   },
   "outputs": [
    {
     "name": "stdout",
     "output_type": "stream",
     "text": [
      "Training set specifications\n",
      "---------------------------\n",
      "344 unique samples\n",
      "305 unique patients\n",
      "3 unique centers\n"
     ]
    }
   ],
   "source": [
    "# /!\\ we perform splits at the patient level so that all samples from the same patient\n",
    "# are found in the same split\n",
    "\n",
    "patients_unique = np.unique(patients_train)\n",
    "y_unique = np.array(\n",
    "    [np.mean(y_train[patients_train == p]) for p in patients_unique]\n",
    ")\n",
    "centers_unique = np.array(\n",
    "    [centers_train[patients_train == p][0] for p in patients_unique]\n",
    ")\n",
    "\n",
    "print(\n",
    "    \"Training set specifications\\n\"\n",
    "    \"---------------------------\\n\"\n",
    "    f\"{len(X_train)} unique samples\\n\"\n",
    "    f\"{len(patients_unique)} unique patients\\n\"\n",
    "    f\"{len(np.unique(centers_unique))} unique centers\"\n",
    ")"
   ]
  },
  {
   "cell_type": "code",
   "execution_count": 163,
   "metadata": {
    "ExecuteTime": {
     "end_time": "2022-10-24T07:22:54.077640Z",
     "start_time": "2022-10-24T07:22:52.907331Z"
    }
   },
   "outputs": [
    {
     "name": "stdout",
     "output_type": "stream",
     "text": [
      "Setup QP...\n",
      "Solving QP...\n",
      "     pcost       dcost       gap    pres   dres\n",
      " 0: -7.0851e+01 -2.2764e+00  2e+03  5e+01  2e-12\n",
      " 1: -1.1994e+00 -2.2730e+00  3e+01  5e-01  2e-12\n",
      " 2: -4.8774e-01 -1.9711e+00  4e+00  5e-02  2e-13\n",
      " 3: -3.7853e-01 -1.1215e+00  8e-01  3e-03  2e-14\n",
      " 4: -4.3198e-01 -5.7468e-01  1e-01  6e-04  9e-15\n",
      " 5: -4.6500e-01 -4.9830e-01  3e-02  6e-05  9e-15\n",
      " 6: -4.7269e-01 -4.8080e-01  8e-03  1e-05  9e-15\n",
      " 7: -4.7491e-01 -4.7607e-01  1e-03  1e-06  1e-14\n",
      " 8: -4.7527e-01 -4.7534e-01  7e-05  5e-08  1e-14\n",
      " 9: -4.7529e-01 -4.7530e-01  3e-06  2e-09  9e-15\n",
      "10: -4.7529e-01 -4.7529e-01  9e-08  4e-11  1e-14\n",
      "Optimal solution found.\n",
      "AUC on split 0 fold 0: 0.573\n",
      "Setup QP...\n",
      "Solving QP...\n",
      "     pcost       dcost       gap    pres   dres\n",
      " 0: -7.0538e+01 -2.2338e+00  2e+03  5e+01  2e-12\n",
      " 1: -1.2366e+00 -2.2295e+00  3e+01  5e-01  2e-12\n",
      " 2: -4.9413e-01 -1.9395e+00  4e+00  5e-02  2e-13\n",
      " 3: -3.9024e-01 -1.0614e+00  8e-01  3e-03  1e-14\n",
      " 4: -4.3854e-01 -5.7547e-01  1e-01  6e-04  8e-15\n",
      " 5: -4.6936e-01 -5.0156e-01  3e-02  1e-04  8e-15\n",
      " 6: -4.7586e-01 -4.8620e-01  1e-02  2e-05  8e-15\n",
      " 7: -4.7886e-01 -4.8015e-01  1e-03  1e-06  9e-15\n",
      " 8: -4.7929e-01 -4.7938e-01  1e-04  7e-08  8e-15\n",
      " 9: -4.7932e-01 -4.7932e-01  4e-06  3e-09  8e-15\n",
      "10: -4.7932e-01 -4.7932e-01  9e-08  5e-11  8e-15\n",
      "Optimal solution found.\n",
      "AUC on split 0 fold 1: 0.703\n",
      "Setup QP...\n",
      "Solving QP...\n",
      "     pcost       dcost       gap    pres   dres\n",
      " 0: -6.9891e+01 -2.3081e+00  2e+03  5e+01  2e-12\n",
      " 1: -1.2034e+00 -2.3045e+00  3e+01  5e-01  2e-12\n",
      " 2: -4.7981e-01 -2.0061e+00  4e+00  5e-02  2e-13\n",
      " 3: -3.8169e-01 -1.0620e+00  8e-01  3e-03  1e-14\n",
      " 4: -4.3331e-01 -5.5918e-01  1e-01  6e-04  7e-15\n",
      " 5: -4.6341e-01 -4.9782e-01  4e-02  1e-04  7e-15\n",
      " 6: -4.7281e-01 -4.8069e-01  8e-03  1e-05  7e-15\n",
      " 7: -4.7512e-01 -4.7614e-01  1e-03  1e-06  8e-15\n",
      " 8: -4.7541e-01 -4.7560e-01  2e-04  2e-07  7e-15\n",
      " 9: -4.7547e-01 -4.7548e-01  1e-05  5e-09  9e-15\n",
      "10: -4.7547e-01 -4.7547e-01  4e-07  1e-10  8e-15\n",
      "Optimal solution found.\n",
      "AUC on split 0 fold 2: 0.607\n",
      "Setup QP...\n",
      "Solving QP...\n",
      "     pcost       dcost       gap    pres   dres\n",
      " 0: -6.8738e+01 -2.2614e+00  2e+03  5e+01  2e-12\n",
      " 1: -1.1761e+00 -2.2571e+00  2e+01  5e-01  2e-12\n",
      " 2: -4.8320e-01 -1.9550e+00  4e+00  6e-02  2e-13\n",
      " 3: -3.7861e-01 -1.1022e+00  8e-01  4e-03  2e-14\n",
      " 4: -4.2732e-01 -5.8306e-01  2e-01  8e-04  8e-15\n",
      " 5: -4.6221e-01 -5.0131e-01  4e-02  1e-04  8e-15\n",
      " 6: -4.7154e-01 -4.8004e-01  9e-03  2e-05  8e-15\n",
      " 7: -4.7376e-01 -4.7525e-01  2e-03  3e-06  8e-15\n",
      " 8: -4.7419e-01 -4.7436e-01  2e-04  3e-07  9e-15\n",
      " 9: -4.7425e-01 -4.7425e-01  8e-06  5e-09  8e-15\n",
      "10: -4.7425e-01 -4.7425e-01  2e-07  1e-10  8e-15\n",
      "Optimal solution found.\n",
      "AUC on split 0 fold 3: 0.525\n",
      "Setup QP...\n",
      "Solving QP...\n",
      "     pcost       dcost       gap    pres   dres\n",
      " 0: -6.8945e+01 -2.2015e+00  2e+03  4e+01  2e-12\n",
      " 1: -1.1496e+00 -2.1972e+00  2e+01  5e-01  2e-12\n",
      " 2: -4.5659e-01 -1.8764e+00  3e+00  4e-02  2e-13\n",
      " 3: -3.6828e-01 -9.1094e-01  6e-01  2e-03  1e-14\n",
      " 4: -4.1755e-01 -5.2280e-01  1e-01  3e-04  7e-15\n",
      " 5: -4.4072e-01 -4.6967e-01  3e-02  7e-05  8e-15\n",
      " 6: -4.4811e-01 -4.5248e-01  4e-03  8e-06  9e-15\n",
      " 7: -4.4928e-01 -4.4995e-01  7e-04  1e-06  8e-15\n",
      " 8: -4.4946e-01 -4.4958e-01  1e-04  2e-07  9e-15\n",
      " 9: -4.4950e-01 -4.4950e-01  5e-06  3e-09  8e-15\n",
      "10: -4.4950e-01 -4.4950e-01  2e-07  7e-11  9e-15\n",
      "Optimal solution found.\n",
      "AUC on split 0 fold 4: 0.519\n",
      "----------------------------\n",
      "Setup QP...\n",
      "Solving QP...\n",
      "     pcost       dcost       gap    pres   dres\n",
      " 0: -6.9268e+01 -2.2412e+00  2e+03  5e+01  2e-12\n",
      " 1: -1.1668e+00 -2.2365e+00  2e+01  5e-01  2e-12\n",
      " 2: -4.6669e-01 -1.9191e+00  3e+00  4e-02  2e-13\n",
      " 3: -3.8662e-01 -8.6139e-01  5e-01  5e-17  8e-15\n",
      " 4: -4.4764e-01 -5.4190e-01  9e-02  1e-17  8e-15\n",
      " 5: -4.6901e-01 -4.9538e-01  3e-02  1e-17  8e-15\n",
      " 6: -4.7595e-01 -4.8127e-01  5e-03  1e-17  8e-15\n",
      " 7: -4.7753e-01 -4.7818e-01  7e-04  1e-17  8e-15\n",
      " 8: -4.7775e-01 -4.7778e-01  3e-05  2e-17  9e-15\n",
      " 9: -4.7776e-01 -4.7776e-01  9e-07  4e-17  9e-15\n",
      "10: -4.7776e-01 -4.7776e-01  2e-08  2e-17  9e-15\n",
      "Optimal solution found.\n",
      "AUC on split 1 fold 0: 0.581\n",
      "Setup QP...\n",
      "Solving QP...\n",
      "     pcost       dcost       gap    pres   dres\n",
      " 0: -6.5589e+01 -2.1267e+00  2e+03  4e+01  2e-12\n",
      " 1: -1.1772e+00 -2.1227e+00  2e+01  5e-01  2e-12\n",
      " 2: -4.9546e-01 -1.8393e+00  4e+00  6e-02  2e-13\n",
      " 3: -3.8116e-01 -1.0716e+00  8e-01  5e-03  2e-14\n",
      " 4: -4.2528e-01 -5.5485e-01  1e-01  8e-04  7e-15\n",
      " 5: -4.5369e-01 -4.8208e-01  3e-02  1e-04  7e-15\n",
      " 6: -4.5979e-01 -4.7013e-01  1e-02  4e-05  7e-15\n",
      " 7: -4.6245e-01 -4.6467e-01  2e-03  7e-06  8e-15\n",
      " 8: -4.6315e-01 -4.6333e-01  2e-04  4e-07  9e-15\n",
      " 9: -4.6321e-01 -4.6323e-01  1e-05  7e-09  8e-15\n",
      "10: -4.6322e-01 -4.6322e-01  4e-07  1e-10  8e-15\n",
      "Optimal solution found.\n",
      "AUC on split 1 fold 1: 0.678\n",
      "Setup QP...\n",
      "Solving QP...\n",
      "     pcost       dcost       gap    pres   dres\n",
      " 0: -7.0385e+01 -2.4581e+00  3e+03  5e+01  2e-12\n",
      " 1: -1.1793e+00 -2.4549e+00  3e+01  6e-01  2e-12\n",
      " 2: -4.5488e-01 -2.1314e+00  3e+00  4e-02  1e-13\n",
      " 3: -3.8141e-01 -9.3695e-01  6e-01  4e-17  7e-15\n",
      " 4: -4.4300e-01 -5.7596e-01  1e-01  1e-17  6e-15\n",
      " 5: -4.7127e-01 -5.0867e-01  4e-02  1e-17  7e-15\n",
      " 6: -4.8006e-01 -4.8841e-01  8e-03  2e-17  7e-15\n",
      " 7: -4.8223e-01 -4.8354e-01  1e-03  1e-17  7e-15\n",
      " 8: -4.8264e-01 -4.8275e-01  1e-04  3e-17  7e-15\n",
      " 9: -4.8268e-01 -4.8268e-01  3e-06  1e-17  8e-15\n",
      "10: -4.8268e-01 -4.8268e-01  4e-08  2e-17  8e-15\n",
      "Optimal solution found.\n",
      "AUC on split 1 fold 2: 0.614\n",
      "Setup QP...\n",
      "Solving QP...\n",
      "     pcost       dcost       gap    pres   dres\n",
      " 0: -6.2872e+01 -2.1540e+00  2e+03  4e+01  2e-12\n",
      " 1: -1.0737e+00 -2.1488e+00  2e+01  5e-01  2e-12\n",
      " 2: -4.3434e-01 -1.8293e+00  3e+00  4e-02  2e-13\n",
      " 3: -3.4303e-01 -9.0216e-01  6e-01  1e-03  9e-15\n",
      " 4: -3.9744e-01 -4.9557e-01  1e-01  2e-04  6e-15\n",
      " 5: -4.2223e-01 -4.4778e-01  3e-02  5e-05  6e-15\n",
      " 6: -4.2928e-01 -4.3460e-01  5e-03  7e-06  7e-15\n",
      " 7: -4.3089e-01 -4.3169e-01  8e-04  8e-07  7e-15\n",
      " 8: -4.3115e-01 -4.3122e-01  7e-05  6e-08  8e-15\n",
      " 9: -4.3117e-01 -4.3117e-01  2e-06  1e-09  7e-15\n",
      "10: -4.3117e-01 -4.3117e-01  4e-08  2e-11  8e-15\n",
      "Optimal solution found.\n",
      "AUC on split 1 fold 3: 0.470\n",
      "Setup QP...\n",
      "Solving QP...\n",
      "     pcost       dcost       gap    pres   dres\n",
      " 0: -6.9608e+01 -2.3461e+00  2e+03  5e+01  2e-12\n",
      " 1: -1.1801e+00 -2.3422e+00  3e+01  5e-01  2e-12\n",
      " 2: -4.7251e-01 -2.0354e+00  4e+00  6e-02  2e-13\n",
      " 3: -3.5699e-01 -1.1149e+00  8e-01  3e-03  1e-14\n",
      " 4: -4.0823e-01 -5.5774e-01  2e-01  5e-04  6e-15\n",
      " 5: -4.4218e-01 -4.7833e-01  4e-02  9e-05  6e-15\n",
      " 6: -4.5068e-01 -4.5987e-01  9e-03  2e-05  7e-15\n",
      " 7: -4.5299e-01 -4.5504e-01  2e-03  2e-06  7e-15\n",
      " 8: -4.5361e-01 -4.5386e-01  3e-04  2e-07  7e-15\n",
      " 9: -4.5369e-01 -4.5372e-01  3e-05  3e-08  7e-15\n",
      "10: -4.5370e-01 -4.5370e-01  1e-06  6e-10  8e-15\n",
      "11: -4.5370e-01 -4.5370e-01  3e-08  1e-11  8e-15\n",
      "Optimal solution found.\n",
      "AUC on split 1 fold 4: 0.515\n",
      "----------------------------\n",
      "Setup QP...\n",
      "Solving QP...\n",
      "     pcost       dcost       gap    pres   dres\n",
      " 0: -7.2029e+01 -2.1693e+00  2e+03  4e+01  2e-12\n",
      " 1: -1.2548e+00 -2.1653e+00  2e+01  5e-01  2e-12\n",
      " 2: -5.1188e-01 -1.8812e+00  3e+00  5e-02  2e-13\n",
      " 3: -4.0282e-01 -1.0818e+00  8e-01  4e-03  2e-14\n",
      " 4: -4.5277e-01 -5.9759e-01  2e-01  8e-04  8e-15\n",
      " 5: -4.8632e-01 -5.2037e-01  4e-02  1e-04  7e-15\n",
      " 6: -4.9497e-01 -5.0311e-01  8e-03  2e-05  7e-15\n",
      " 7: -4.9719e-01 -4.9865e-01  1e-03  4e-06  8e-15\n",
      " 8: -4.9765e-01 -4.9776e-01  1e-04  2e-07  7e-15\n",
      " 9: -4.9769e-01 -4.9770e-01  4e-06  6e-09  8e-15\n",
      "10: -4.9769e-01 -4.9769e-01  1e-07  1e-10  8e-15\n",
      "Optimal solution found.\n",
      "AUC on split 2 fold 0: 0.586\n",
      "Setup QP...\n",
      "Solving QP...\n",
      "     pcost       dcost       gap    pres   dres\n",
      " 0: -6.9804e+01 -2.4799e+00  3e+03  5e+01  2e-12\n",
      " 1: -1.1835e+00 -2.4768e+00  3e+01  6e-01  2e-12\n",
      " 2: -4.6450e-01 -2.1616e+00  4e+00  5e-02  2e-13\n",
      " 3: -3.7970e-01 -1.0098e+00  6e-01  1e-17  6e-15\n",
      " 4: -4.4545e-01 -5.9525e-01  1e-01  9e-18  7e-15\n",
      " 5: -4.7786e-01 -5.2129e-01  4e-02  1e-17  7e-15\n",
      " 6: -4.8801e-01 -4.9768e-01  1e-02  3e-17  7e-15\n",
      " 7: -4.9033e-01 -4.9276e-01  2e-03  1e-17  7e-15\n",
      " 8: -4.9107e-01 -4.9128e-01  2e-04  1e-17  7e-15\n",
      " 9: -4.9115e-01 -4.9115e-01  7e-06  2e-17  8e-15\n",
      "10: -4.9115e-01 -4.9115e-01  3e-07  1e-17  8e-15\n",
      "Optimal solution found.\n",
      "AUC on split 2 fold 1: 0.610\n",
      "Setup QP...\n",
      "Solving QP...\n",
      "     pcost       dcost       gap    pres   dres\n",
      " 0: -7.3872e+01 -2.2953e+00  2e+03  5e+01  2e-12\n",
      " 1: -1.2478e+00 -2.2905e+00  3e+01  5e-01  2e-12\n",
      " 2: -4.9590e-01 -1.9872e+00  4e+00  5e-02  2e-13\n",
      " 3: -3.9291e-01 -1.0788e+00  8e-01  4e-03  2e-14\n",
      " 4: -4.4088e-01 -6.0865e-01  2e-01  9e-04  8e-15\n",
      " 5: -4.7485e-01 -5.1700e-01  4e-02  1e-04  7e-15\n",
      " 6: -4.8431e-01 -4.9617e-01  1e-02  3e-05  7e-15\n",
      " 7: -4.8748e-01 -4.8952e-01  2e-03  2e-06  8e-15\n",
      " 8: -4.8816e-01 -4.8829e-01  1e-04  1e-07  8e-15\n",
      " 9: -4.8821e-01 -4.8821e-01  5e-06  3e-09  8e-15\n",
      "10: -4.8821e-01 -4.8821e-01  1e-07  4e-11  9e-15\n",
      "Optimal solution found.\n",
      "AUC on split 2 fold 2: 0.674\n",
      "Setup QP...\n",
      "Solving QP...\n",
      "     pcost       dcost       gap    pres   dres\n",
      " 0: -6.8906e+01 -2.2641e+00  2e+03  5e+01  2e-12\n",
      " 1: -1.1985e+00 -2.2599e+00  3e+01  5e-01  2e-12\n",
      " 2: -4.7550e-01 -1.9577e+00  4e+00  5e-02  2e-13\n",
      " 3: -3.7680e-01 -1.0212e+00  7e-01  4e-03  2e-14\n",
      " 4: -4.1729e-01 -5.5126e-01  1e-01  8e-04  9e-15\n",
      " 5: -4.4607e-01 -4.8614e-01  4e-02  2e-04  7e-15\n",
      " 6: -4.5583e-01 -4.6424e-01  9e-03  3e-05  1e-14\n",
      " 7: -4.5827e-01 -4.5907e-01  8e-04  2e-06  9e-15\n",
      " 8: -4.5853e-01 -4.5860e-01  8e-05  1e-07  1e-14\n",
      " 9: -4.5856e-01 -4.5856e-01  4e-06  5e-09  1e-14\n",
      "10: -4.5856e-01 -4.5856e-01  1e-07  1e-10  1e-14\n",
      "Optimal solution found.\n",
      "AUC on split 2 fold 3: 0.661\n",
      "Setup QP...\n",
      "Solving QP...\n",
      "     pcost       dcost       gap    pres   dres\n",
      " 0: -6.7148e+01 -2.3781e+00  2e+03  5e+01  2e-12\n",
      " 1: -1.1292e+00 -2.3734e+00  3e+01  5e-01  2e-12\n",
      " 2: -4.4889e-01 -2.0492e+00  4e+00  5e-02  2e-13\n",
      " 3: -3.6978e-01 -1.1103e+00  9e-01  6e-03  3e-14\n",
      " 4: -4.1589e-01 -5.4936e-01  1e-01  9e-04  9e-15\n",
      " 5: -4.4716e-01 -4.8915e-01  4e-02  2e-04  8e-15\n",
      " 6: -4.5969e-01 -4.6573e-01  6e-03  2e-05  9e-15\n",
      " 7: -4.6123e-01 -4.6301e-01  2e-03  2e-06  9e-15\n",
      " 8: -4.6184e-01 -4.6195e-01  1e-04  1e-07  1e-14\n",
      " 9: -4.6188e-01 -4.6189e-01  4e-06  4e-09  1e-14\n",
      "10: -4.6189e-01 -4.6189e-01  8e-08  5e-11  1e-14\n",
      "Optimal solution found.\n",
      "AUC on split 2 fold 4: 0.592\n",
      "----------------------------\n",
      "Setup QP...\n",
      "Solving QP...\n",
      "     pcost       dcost       gap    pres   dres\n",
      " 0: -7.3407e+01 -2.3302e+00  2e+03  5e+01  2e-12\n",
      " 1: -1.2057e+00 -2.3268e+00  3e+01  5e-01  2e-12\n",
      " 2: -4.6594e-01 -1.9998e+00  3e+00  3e-02  1e-13\n",
      " 3: -4.1583e-01 -7.6544e-01  3e-01  1e-17  7e-15\n",
      " 4: -4.7705e-01 -5.4967e-01  7e-02  2e-17  7e-15\n",
      " 5: -4.9632e-01 -5.1412e-01  2e-02  2e-17  8e-15\n",
      " 6: -5.0118e-01 -5.0459e-01  3e-03  2e-17  7e-15\n",
      " 7: -5.0222e-01 -5.0267e-01  4e-04  1e-17  8e-15\n",
      " 8: -5.0238e-01 -5.0240e-01  2e-05  9e-18  8e-15\n",
      " 9: -5.0239e-01 -5.0239e-01  7e-07  1e-17  9e-15\n",
      "10: -5.0239e-01 -5.0239e-01  2e-08  2e-17  9e-15\n",
      "Optimal solution found.\n",
      "AUC on split 3 fold 0: 0.662\n",
      "Setup QP...\n",
      "Solving QP...\n",
      "     pcost       dcost       gap    pres   dres\n",
      " 0: -6.9434e+01 -2.3212e+00  2e+03  5e+01  2e-12\n",
      " 1: -1.2558e+00 -2.3171e+00  3e+01  6e-01  2e-12\n",
      " 2: -5.1192e-01 -2.0422e+00  5e+00  8e-02  2e-13\n",
      " 3: -3.7819e-01 -1.2579e+00  1e+00  6e-03  2e-14\n",
      " 4: -4.2064e-01 -5.8083e-01  2e-01  1e-03  8e-15\n",
      " 5: -4.5521e-01 -5.0101e-01  5e-02  2e-04  9e-15\n",
      " 6: -4.6682e-01 -4.7771e-01  1e-02  4e-05  9e-15\n",
      " 7: -4.6977e-01 -4.7156e-01  2e-03  5e-06  9e-15\n",
      " 8: -4.7026e-01 -4.7056e-01  3e-04  5e-07  9e-15\n",
      " 9: -4.7037e-01 -4.7038e-01  1e-05  1e-08  1e-14\n",
      "10: -4.7037e-01 -4.7037e-01  6e-07  6e-10  9e-15\n",
      "11: -4.7037e-01 -4.7037e-01  2e-08  1e-11  1e-14\n",
      "Optimal solution found.\n",
      "AUC on split 3 fold 1: 0.527\n",
      "Setup QP...\n",
      "Solving QP...\n",
      "     pcost       dcost       gap    pres   dres\n",
      " 0: -6.4344e+01 -2.2304e+00  2e+03  5e+01  2e-12\n",
      " 1: -1.1097e+00 -2.2262e+00  2e+01  5e-01  2e-12\n",
      " 2: -4.5796e-01 -1.9175e+00  3e+00  5e-02  2e-13\n",
      " 3: -3.6137e-01 -9.4378e-01  6e-01  6e-17  8e-15\n",
      " 4: -4.2210e-01 -5.1774e-01  1e-01  1e-17  7e-15\n",
      " 5: -4.4615e-01 -4.7211e-01  3e-02  1e-17  7e-15\n",
      " 6: -4.5324e-01 -4.5824e-01  5e-03  1e-17  8e-15\n",
      " 7: -4.5471e-01 -4.5547e-01  8e-04  2e-17  7e-15\n",
      " 8: -4.5496e-01 -4.5502e-01  6e-05  1e-17  8e-15\n",
      " 9: -4.5498e-01 -4.5498e-01  2e-06  1e-17  8e-15\n",
      "10: -4.5498e-01 -4.5498e-01  4e-08  2e-17  8e-15\n",
      "Optimal solution found.\n",
      "AUC on split 3 fold 2: 0.636\n",
      "Setup QP...\n",
      "Solving QP...\n",
      "     pcost       dcost       gap    pres   dres\n",
      " 0: -6.5639e+01 -2.2358e+00  2e+03  5e+01  2e-12\n",
      " 1: -1.1149e+00 -2.2308e+00  2e+01  5e-01  2e-12\n",
      " 2: -4.5441e-01 -1.9125e+00  3e+00  5e-02  2e-13\n",
      " 3: -3.6701e-01 -1.0254e+00  8e-01  5e-03  2e-14\n",
      " 4: -4.0802e-01 -5.3897e-01  1e-01  9e-04  9e-15\n",
      " 5: -4.3942e-01 -4.7101e-01  3e-02  2e-04  8e-15\n",
      " 6: -4.4809e-01 -4.5407e-01  6e-03  3e-05  8e-15\n",
      " 7: -4.4984e-01 -4.5079e-01  1e-03  4e-06  8e-15\n",
      " 8: -4.5015e-01 -4.5021e-01  7e-05  2e-07  9e-15\n",
      " 9: -4.5017e-01 -4.5017e-01  2e-06  5e-09  8e-15\n",
      "10: -4.5017e-01 -4.5017e-01  4e-08  7e-11  9e-15\n",
      "Optimal solution found.\n",
      "AUC on split 3 fold 3: 0.610\n",
      "Setup QP...\n",
      "Solving QP...\n",
      "     pcost       dcost       gap    pres   dres\n",
      " 0: -7.1339e+01 -2.2787e+00  2e+03  5e+01  2e-12\n",
      " 1: -1.2170e+00 -2.2756e+00  3e+01  5e-01  2e-12\n",
      " 2: -4.8854e-01 -1.9762e+00  4e+00  5e-02  2e-13\n",
      " 3: -3.9128e-01 -1.0252e+00  7e-01  2e-03  1e-14\n",
      " 4: -4.4344e-01 -6.0156e-01  2e-01  4e-04  6e-15\n",
      " 5: -4.7727e-01 -5.1372e-01  4e-02  3e-05  8e-15\n",
      " 6: -4.8600e-01 -4.9378e-01  8e-03  5e-06  7e-15\n",
      " 7: -4.8809e-01 -4.8946e-01  1e-03  7e-07  7e-15\n",
      " 8: -4.8850e-01 -4.8864e-01  1e-04  3e-08  7e-15\n",
      " 9: -4.8855e-01 -4.8855e-01  6e-06  9e-10  8e-15\n",
      "10: -4.8855e-01 -4.8855e-01  2e-07  2e-11  8e-15\n",
      "Optimal solution found.\n",
      "AUC on split 3 fold 4: 0.706\n",
      "----------------------------\n",
      "Setup QP...\n",
      "Solving QP...\n",
      "     pcost       dcost       gap    pres   dres\n",
      " 0: -7.2106e+01 -2.3216e+00  2e+03  5e+01  2e-12\n",
      " 1: -1.1906e+00 -2.3171e+00  3e+01  5e-01  2e-12\n",
      " 2: -4.6357e-01 -1.9869e+00  3e+00  4e-02  1e-13\n",
      " 3: -3.8942e-01 -8.3748e-01  5e-01  2e-04  6e-15\n",
      " 4: -4.4836e-01 -5.3703e-01  9e-02  3e-05  6e-15\n",
      " 5: -4.6929e-01 -4.9042e-01  2e-02  6e-06  7e-15\n",
      " 6: -4.7521e-01 -4.7800e-01  3e-03  5e-07  7e-15\n",
      " 7: -4.7596e-01 -4.7659e-01  6e-04  9e-08  7e-15\n",
      " 8: -4.7616e-01 -4.7621e-01  5e-05  6e-09  8e-15\n",
      " 9: -4.7618e-01 -4.7618e-01  1e-06  1e-10  8e-15\n",
      "10: -4.7618e-01 -4.7618e-01  4e-08  3e-12  8e-15\n",
      "Optimal solution found.\n",
      "AUC on split 4 fold 0: 0.651\n",
      "Setup QP...\n",
      "Solving QP...\n",
      "     pcost       dcost       gap    pres   dres\n",
      " 0: -6.9944e+01 -2.2549e+00  2e+03  5e+01  2e-12\n",
      " 1: -1.1977e+00 -2.2511e+00  2e+01  5e-01  2e-12\n",
      " 2: -4.8212e-01 -1.9524e+00  4e+00  5e-02  2e-13\n",
      " 3: -3.8857e-01 -1.0549e+00  7e-01  4e-03  2e-14\n",
      " 4: -4.3753e-01 -5.8003e-01  2e-01  7e-04  8e-15\n",
      " 5: -4.6877e-01 -4.9693e-01  3e-02  1e-04  8e-15\n",
      " 6: -4.7582e-01 -4.8353e-01  8e-03  1e-05  9e-15\n",
      " 7: -4.7791e-01 -4.7926e-01  1e-03  2e-06  9e-15\n",
      " 8: -4.7834e-01 -4.7842e-01  8e-05  8e-08  8e-15\n",
      " 9: -4.7837e-01 -4.7837e-01  2e-06  2e-09  9e-15\n",
      "10: -4.7837e-01 -4.7837e-01  3e-08  2e-11  9e-15\n",
      "Optimal solution found.\n",
      "AUC on split 4 fold 1: 0.667\n",
      "Setup QP...\n",
      "Solving QP...\n",
      "     pcost       dcost       gap    pres   dres\n",
      " 0: -6.8409e+01 -2.3125e+00  2e+03  5e+01  2e-12\n",
      " 1: -1.1798e+00 -2.3086e+00  3e+01  5e-01  2e-12\n",
      " 2: -4.7864e-01 -1.9935e+00  4e+00  5e-02  2e-13\n",
      " 3: -3.8394e-01 -1.0573e+00  7e-01  3e-03  1e-14\n",
      " 4: -4.3678e-01 -5.5764e-01  1e-01  5e-04  8e-15\n",
      " 5: -4.6425e-01 -5.0036e-01  4e-02  1e-04  8e-15\n",
      " 6: -4.7281e-01 -4.8210e-01  9e-03  2e-05  9e-15\n",
      " 7: -4.7546e-01 -4.7703e-01  2e-03  2e-06  8e-15\n",
      " 8: -4.7593e-01 -4.7616e-01  2e-04  2e-07  8e-15\n",
      " 9: -4.7600e-01 -4.7602e-01  2e-05  2e-08  8e-15\n",
      "10: -4.7601e-01 -4.7601e-01  5e-07  3e-10  9e-15\n",
      "Optimal solution found.\n",
      "AUC on split 4 fold 2: 0.590\n",
      "Setup QP...\n",
      "Solving QP...\n",
      "     pcost       dcost       gap    pres   dres\n",
      " 0: -6.3983e+01 -2.2461e+00  2e+03  5e+01  2e-12\n",
      " 1: -1.1174e+00 -2.2422e+00  3e+01  5e-01  2e-12\n",
      " 2: -4.5924e-01 -1.9483e+00  4e+00  6e-02  2e-13\n",
      " 3: -3.5369e-01 -1.0832e+00  8e-01  3e-03  1e-14\n",
      " 4: -4.0543e-01 -5.3814e-01  1e-01  5e-04  8e-15\n",
      " 5: -4.3835e-01 -4.7444e-01  4e-02  8e-05  8e-15\n",
      " 6: -4.4733e-01 -4.5646e-01  9e-03  2e-05  9e-15\n",
      " 7: -4.4983e-01 -4.5126e-01  1e-03  1e-06  1e-14\n",
      " 8: -4.5033e-01 -4.5039e-01  6e-05  5e-08  1e-14\n",
      " 9: -4.5035e-01 -4.5035e-01  2e-06  2e-09  9e-15\n",
      "10: -4.5035e-01 -4.5035e-01  6e-08  2e-11  1e-14\n",
      "Optimal solution found.\n",
      "AUC on split 4 fold 3: 0.604\n",
      "Setup QP...\n",
      "Solving QP...\n",
      "     pcost       dcost       gap    pres   dres\n",
      " 0: -7.1263e+01 -2.2759e+00  2e+03  5e+01  2e-12\n",
      " 1: -1.1881e+00 -2.2720e+00  3e+01  5e-01  2e-12\n",
      " 2: -4.6867e-01 -1.9607e+00  3e+00  4e-02  2e-13\n",
      " 3: -3.8494e-01 -9.6803e-01  6e-01  2e-03  9e-15\n",
      " 4: -4.3953e-01 -5.6767e-01  1e-01  3e-04  7e-15\n",
      " 5: -4.6828e-01 -5.0386e-01  4e-02  7e-05  8e-15\n",
      " 6: -4.7763e-01 -4.8405e-01  6e-03  9e-06  8e-15\n",
      " 7: -4.7946e-01 -4.8054e-01  1e-03  1e-06  9e-15\n",
      " 8: -4.7983e-01 -4.7988e-01  5e-05  4e-08  8e-15\n",
      " 9: -4.7984e-01 -4.7985e-01  3e-06  2e-09  8e-15\n",
      "10: -4.7985e-01 -4.7985e-01  5e-08  3e-11  9e-15\n",
      "Optimal solution found.\n",
      "AUC on split 4 fold 4: 0.588\n",
      "----------------------------\n",
      "5-fold cross-validated AUC averaged over 5 repeats: 0.606 (0.061)\n"
     ]
    }
   ],
   "source": [
    "aucs = []\n",
    "classifiers = []\n",
    "# 5-fold CV is repeated 5 times with different random states\n",
    "for k in range(5):\n",
    "    kfold = StratifiedKFold(5, shuffle=True, random_state=k)\n",
    "    fold = 0\n",
    "    # split is performed at the patient-level\n",
    "    for train_idx_, val_idx_ in kfold.split(patients_unique, y_unique):\n",
    "        # retrieve the indexes of the samples corresponding to the\n",
    "        # patients in `train_idx_` and `test_idx_`\n",
    "        train_idx = np.arange(len(X_train))[\n",
    "            pd.Series(patients_train).isin(patients_unique[train_idx_])\n",
    "        ]\n",
    "        val_idx = np.arange(len(X_train))[\n",
    "            pd.Series(patients_train).isin(patients_unique[val_idx_])\n",
    "        ]\n",
    "        # set the training and validation folds\n",
    "        X_fold_train = X_train_transformed[train_idx]\n",
    "        y_fold_train = y_train[train_idx]\n",
    "        X_fold_val = X_train_transformed[val_idx]\n",
    "        y_fold_val = y_train[val_idx]\n",
    "        # instantiate the model\n",
    "        #lr = LogisticRegression(C=0.01, solver=\"liblinear\")\n",
    "        # fit it\n",
    "        #lr.fit(X_fold_train, y_fold_train)\n",
    "        # get the predictions (1-d probability)\n",
    "        #preds_val = lr.predict_proba(X_fold_val)[:, 1]\n",
    "        # compute the AUC score using scikit-learn\n",
    "        classifier = misvm.NSK(kernel='linear', C=1.0)\n",
    "        classifier.fit(X_fold_train[:, ::50, :], 2*y_fold_train - 1)\n",
    "        preds_val = classifier.predict(X_fold_val)\n",
    "        preds_val = np.clip(((preds_val + 1) / 2), 0, 1)\n",
    "        auc = roc_auc_score(y_fold_val, preds_val)\n",
    "        print(f\"AUC on split {k} fold {fold}: {auc:.3f}\")\n",
    "        aucs.append(auc)\n",
    "        # add the logistic regression to the list of classifiers\n",
    "        classifiers.append(classifier)\n",
    "        fold += 1\n",
    "    print(\"----------------------------\")\n",
    "print(\n",
    "    f\"5-fold cross-validated AUC averaged over {k+1} repeats: \"\n",
    "    f\"{np.mean(aucs):.3f} ({np.std(aucs):.3f})\"\n",
    ")"
   ]
  },
  {
   "cell_type": "markdown",
   "metadata": {},
   "source": [
    "# Submission"
   ]
  },
  {
   "cell_type": "markdown",
   "metadata": {},
   "source": [
    "Now we evaluate the previous models trained through cross-validation so that to produce a submission file that can directly be uploaded on the data challenge platform."
   ]
  },
  {
   "cell_type": "markdown",
   "metadata": {},
   "source": [
    "## Data processing"
   ]
  },
  {
   "cell_type": "code",
   "execution_count": 77,
   "metadata": {
    "ExecuteTime": {
     "end_time": "2022-10-24T07:22:54.987815Z",
     "start_time": "2022-10-24T07:22:54.079916Z"
    }
   },
   "outputs": [
    {
     "name": "stderr",
     "output_type": "stream",
     "text": [
      "100%|██████████| 149/149 [00:00<00:00, 224.80it/s]\n"
     ]
    }
   ],
   "source": [
    "X_test = []\n",
    "\n",
    "# load the data from `df_test` (~ 1 minute)\n",
    "for sample in tqdm(df_test[\"Sample ID\"].values):\n",
    "    _features = np.load(test_features_dir / sample)\n",
    "    coordinates, features = _features[:, :3], _features[:, 3:]\n",
    "    X_test.append(features)\n",
    "\n",
    "X_test = np.array(X_test)"
   ]
  },
  {
   "cell_type": "code",
   "execution_count": 80,
   "metadata": {},
   "outputs": [],
   "source": [
    "X_test_unraveled = X_test.reshape(-1, 2048)\n",
    "X_test_transformed = pca.transform(X_test_unraveled)\n",
    "X_test_transformed = X_test_transformed.reshape((149, 1000, n_comp))"
   ]
  },
  {
   "cell_type": "code",
   "execution_count": 90,
   "metadata": {},
   "outputs": [
    {
     "name": "stderr",
     "output_type": "stream",
     "text": [
      "100%|██████████| 149/149 [00:16<00:00,  9.07it/s]\n"
     ]
    }
   ],
   "source": [
    "X_test_transformed_less_tiles = np.zeros((149, n_centroids, n_comp))\n",
    "\n",
    "for i in tqdm(range(149)):\n",
    "    kmeans = KMeans(n_clusters=n_centroids, random_state=42).fit(X_test_transformed[i])\n",
    "    X_test_transformed_less_tiles[i] = kmeans.cluster_centers_"
   ]
  },
  {
   "cell_type": "code",
   "execution_count": 91,
   "metadata": {},
   "outputs": [
    {
     "data": {
      "text/plain": [
       "(149, 10, 205)"
      ]
     },
     "execution_count": 91,
     "metadata": {},
     "output_type": "execute_result"
    }
   ],
   "source": [
    "X_test_transformed_less_tiles.shape"
   ]
  },
  {
   "cell_type": "markdown",
   "metadata": {
    "ExecuteTime": {
     "end_time": "2022-10-20T08:17:35.617554Z",
     "start_time": "2022-10-20T08:17:35.603562Z"
    }
   },
   "source": [
    "## Inference"
   ]
  },
  {
   "cell_type": "code",
   "execution_count": 94,
   "metadata": {
    "ExecuteTime": {
     "end_time": "2022-10-24T07:22:55.043255Z",
     "start_time": "2022-10-24T07:22:54.989274Z"
    }
   },
   "outputs": [],
   "source": [
    "preds_test = 0\n",
    "# loop over the classifiers\n",
    "for classifier in classifiers:\n",
    "    y_classifier = classifier.predict(X_test_transformed_less_tiles)\n",
    "    preds_test += np.clip(((y_classifier + 1) / 2), 0, 1)\n",
    "    \n",
    "# and take the average (ensembling technique)\n",
    "preds_test = preds_test / len(classifiers)"
   ]
  },
  {
   "cell_type": "code",
   "execution_count": 98,
   "metadata": {},
   "outputs": [
    {
     "data": {
      "text/plain": [
       "array([0.7275936 , 0.51464285, 0.28602693, 0.17325259, 0.08999926,\n",
       "       0.87882369, 0.00518655, 0.62902098, 0.28535853, 0.25589364,\n",
       "       0.16321913, 0.41472733, 0.57474195, 0.1732883 , 0.39815459,\n",
       "       0.48770272, 0.27078173, 0.6351116 , 0.44019285, 0.53908218,\n",
       "       0.52808396, 0.08242862, 0.09532265, 0.9179515 , 0.76761823,\n",
       "       0.40688572, 0.9468021 , 0.738104  , 0.31863793, 0.30725438])"
      ]
     },
     "execution_count": 98,
     "metadata": {},
     "output_type": "execute_result"
    }
   ],
   "source": [
    "preds_test[:30]"
   ]
  },
  {
   "cell_type": "markdown",
   "metadata": {},
   "source": [
    "## Saving predictions"
   ]
  },
  {
   "cell_type": "code",
   "execution_count": 96,
   "metadata": {
    "ExecuteTime": {
     "end_time": "2022-10-24T07:22:55.098571Z",
     "start_time": "2022-10-24T07:22:55.044975Z"
    }
   },
   "outputs": [
    {
     "data": {
      "text/html": [
       "<div>\n",
       "<style scoped>\n",
       "    .dataframe tbody tr th:only-of-type {\n",
       "        vertical-align: middle;\n",
       "    }\n",
       "\n",
       "    .dataframe tbody tr th {\n",
       "        vertical-align: top;\n",
       "    }\n",
       "\n",
       "    .dataframe thead th {\n",
       "        text-align: right;\n",
       "    }\n",
       "</style>\n",
       "<table border=\"1\" class=\"dataframe\">\n",
       "  <thead>\n",
       "    <tr style=\"text-align: right;\">\n",
       "      <th></th>\n",
       "      <th>Sample ID</th>\n",
       "      <th>Target</th>\n",
       "    </tr>\n",
       "  </thead>\n",
       "  <tbody>\n",
       "    <tr>\n",
       "      <th>0</th>\n",
       "      <td>ID_003.npy</td>\n",
       "      <td>0.727594</td>\n",
       "    </tr>\n",
       "    <tr>\n",
       "      <th>1</th>\n",
       "      <td>ID_004.npy</td>\n",
       "      <td>0.514643</td>\n",
       "    </tr>\n",
       "    <tr>\n",
       "      <th>2</th>\n",
       "      <td>ID_008.npy</td>\n",
       "      <td>0.286027</td>\n",
       "    </tr>\n",
       "    <tr>\n",
       "      <th>3</th>\n",
       "      <td>ID_009.npy</td>\n",
       "      <td>0.173253</td>\n",
       "    </tr>\n",
       "    <tr>\n",
       "      <th>4</th>\n",
       "      <td>ID_010.npy</td>\n",
       "      <td>0.089999</td>\n",
       "    </tr>\n",
       "  </tbody>\n",
       "</table>\n",
       "</div>"
      ],
      "text/plain": [
       "    Sample ID    Target\n",
       "0  ID_003.npy  0.727594\n",
       "1  ID_004.npy  0.514643\n",
       "2  ID_008.npy  0.286027\n",
       "3  ID_009.npy  0.173253\n",
       "4  ID_010.npy  0.089999"
      ]
     },
     "execution_count": 96,
     "metadata": {},
     "output_type": "execute_result"
    }
   ],
   "source": [
    "submission = pd.DataFrame(\n",
    "    {\"Sample ID\": df_test[\"Sample ID\"].values, \"Target\": preds_test}\n",
    ").sort_values(\n",
    "    \"Sample ID\"\n",
    ")  # extra step to sort the sample IDs\n",
    "\n",
    "# sanity checks\n",
    "assert all(submission[\"Target\"].between(0, 1)), \"`Target` values must be in [0, 1]\"\n",
    "assert submission.shape == (149, 2), \"Your submission file must be of shape (149, 2)\"\n",
    "assert list(submission.columns) == [\n",
    "    \"Sample ID\",\n",
    "    \"Target\",\n",
    "], \"Your submission file must have columns `Sample ID` and `Target`\"\n",
    "\n",
    "# save the submission as a csv file\n",
    "submission.to_csv(data_dir / \"benchmark_test_output.csv\", index=None)\n",
    "submission.head()"
   ]
  },
  {
   "cell_type": "markdown",
   "metadata": {},
   "source": [
    "# Dealing with images"
   ]
  },
  {
   "cell_type": "markdown",
   "metadata": {},
   "source": [
    "The following code aims to load and manipulate the images provided as part of  this challenge."
   ]
  },
  {
   "cell_type": "markdown",
   "metadata": {},
   "source": [
    "## Scanning images paths on disk"
   ]
  },
  {
   "cell_type": "markdown",
   "metadata": {},
   "source": [
    "This operation can take up to 5 minutes."
   ]
  },
  {
   "cell_type": "code",
   "execution_count": 18,
   "metadata": {
    "ExecuteTime": {
     "end_time": "2022-10-24T07:23:00.263580Z",
     "start_time": "2022-10-24T07:22:55.100342Z"
    }
   },
   "outputs": [
    {
     "name": "stdout",
     "output_type": "stream",
     "text": [
      "Number of images\n",
      "-----------------\n",
      "Train: 0\n",
      "Test: 0\n",
      "Total: 0\n",
      "\n"
     ]
    }
   ],
   "source": [
    "train_images_dir = data_dir / \"train_input\" / \"images\"\n",
    "train_images_files = list(train_images_dir.rglob(\"*.jpg\"))\n",
    "\n",
    "test_images_dir = data_dir / \"test_input\" / \"images\"\n",
    "test_images_files = list(test_images_dir.rglob(\"*.jpg\"))\n",
    "\n",
    "print(\n",
    "    f\"Number of images\\n\"\n",
    "    \"-----------------\\n\"\n",
    "    f\"Train: {len(train_images_files)}\\n\" # 344 x 1000 = 344,000 tiles\n",
    "    f\"Test: {len(test_images_files)}\\n\"  # 149 x 1000 = 149,000 tiles\n",
    "    f\"Total: {len(train_images_files) + len(test_images_files)}\\n\"  # 493 x 1000 = 493,000 tiles\n",
    ")"
   ]
  },
  {
   "cell_type": "markdown",
   "metadata": {
    "ExecuteTime": {
     "end_time": "2022-10-20T10:16:48.078600Z",
     "start_time": "2022-10-20T10:16:47.948127Z"
    }
   },
   "source": [
    "## Reading"
   ]
  },
  {
   "cell_type": "markdown",
   "metadata": {},
   "source": [
    "Now we can load some of the `.jpg` images for a given sample, say `ID_001`."
   ]
  },
  {
   "cell_type": "code",
   "execution_count": 12,
   "metadata": {
    "ExecuteTime": {
     "end_time": "2022-10-24T07:23:00.381225Z",
     "start_time": "2022-10-24T07:23:00.267047Z"
    }
   },
   "outputs": [],
   "source": [
    "ID_001_tiles = [p for p in train_images_files if 'ID_001' in p.name]"
   ]
  },
  {
   "cell_type": "code",
   "execution_count": 14,
   "metadata": {},
   "outputs": [
    {
     "name": "stdout",
     "output_type": "stream",
     "text": [
      "[]\n"
     ]
    }
   ],
   "source": [
    "print(ID_001_tiles)"
   ]
  },
  {
   "cell_type": "code",
   "execution_count": 13,
   "metadata": {
    "ExecuteTime": {
     "end_time": "2022-10-24T07:23:01.973155Z",
     "start_time": "2022-10-24T07:23:00.382760Z"
    }
   },
   "outputs": [
    {
     "data": {
      "image/png": "[encoded data removed]",
      "text/plain": [
       "<Figure size 1200x1200 with 25 Axes>"
      ]
     },
     "metadata": {},
     "output_type": "display_data"
    }
   ],
   "source": [
    "fig, axes = plt.subplots(5, 5)\n",
    "fig.set_size_inches(12, 12)\n",
    "\n",
    "for i, img_file in enumerate(ID_001_tiles[:25]):\n",
    "    # get the metadata from the file path\n",
    "    _, metadata = str(img_file).split(\"tile_\")\n",
    "    id_tile, level, x, y = metadata[:-4].split(\"_\")\n",
    "    img = plt.imread(img_file)\n",
    "    ax = axes[i//5, i%5]\n",
    "    ax.imshow(img)\n",
    "    ax.set_xticks([])\n",
    "    ax.set_yticks([])\n",
    "    ax.set_title(f\"Tile {id_tile} ({x}, {y})\")\n",
    "plt.show()"
   ]
  },
  {
   "cell_type": "markdown",
   "metadata": {},
   "source": [
    "## Mapping with features"
   ]
  },
  {
   "cell_type": "markdown",
   "metadata": {},
   "source": [
    "Note that the coordinates in the features matrices and tiles number are aligned."
   ]
  },
  {
   "cell_type": "code",
   "execution_count": 21,
   "metadata": {
    "ExecuteTime": {
     "end_time": "2022-10-24T07:23:01.984327Z",
     "start_time": "2022-10-24T07:23:01.974933Z"
    }
   },
   "outputs": [
    {
     "name": "stdout",
     "output_type": "stream",
     "text": [
      "xy features coordinates\n"
     ]
    },
    {
     "data": {
      "text/plain": [
       "array([[170,  43],\n",
       "       [245,  49],\n",
       "       [137, 128],\n",
       "       [218,  40],\n",
       "       [142, 117],\n",
       "       [129,  72],\n",
       "       [129,  88],\n",
       "       [164, 109],\n",
       "       [210,  39],\n",
       "       [222, 100]])"
      ]
     },
     "execution_count": 21,
     "metadata": {},
     "output_type": "execute_result"
    }
   ],
   "source": [
    "sample = \"ID_001.npy\"\n",
    "_features = np.load(train_features_dir / sample)\n",
    "coordinates, features = _features[:, :3], _features[:, 3:]\n",
    "print(\"xy features coordinates\")\n",
    "coordinates[:10, 1:].astype(int)"
   ]
  },
  {
   "cell_type": "code",
   "execution_count": 20,
   "metadata": {
    "ExecuteTime": {
     "end_time": "2022-10-24T07:23:01.990342Z",
     "start_time": "2022-10-24T07:23:01.985926Z"
    }
   },
   "outputs": [
    {
     "name": "stdout",
     "output_type": "stream",
     "text": [
      "Tiles numbering and features coordinates\n",
      "\n"
     ]
    },
    {
     "data": {
      "text/plain": [
       "[]"
      ]
     },
     "execution_count": 20,
     "metadata": {},
     "output_type": "execute_result"
    }
   ],
   "source": [
    "print(\n",
    "    \"Tiles numbering and features coordinates\\n\"\n",
    ")\n",
    "[tile.name for tile in ID_001_tiles[:10]]"
   ]
  },
  {
   "cell_type": "code",
   "execution_count": 29,
   "metadata": {},
   "outputs": [
    {
     "data": {
      "text/plain": [
       "Sample ID    ID_493.npy\n",
       "Target         0.448932\n",
       "dtype: object"
      ]
     },
     "execution_count": 29,
     "metadata": {},
     "output_type": "execute_result"
    }
   ],
   "source": [
    "submission.max()"
   ]
  },
  {
   "cell_type": "code",
   "execution_count": null,
   "metadata": {},
   "outputs": [],
   "source": []
  }
 ],
 "metadata": {
  "kernelspec": {
   "display_name": "Python 3.10.6 ('base')",
   "language": "python",
   "name": "python3"
  },
  "language_info": {
   "codemirror_mode": {
    "name": "ipython",
    "version": 3
   },
   "file_extension": ".py",
   "mimetype": "text/x-python",
   "name": "python",
   "nbconvert_exporter": "python",
   "pygments_lexer": "ipython3",
   "version": "3.10.6"
  },
  "latex_envs": {
   "LaTeX_envs_menu_present": true,
   "autoclose": false,
   "autocomplete": true,
   "bibliofile": "biblio.bib",
   "cite_by": "apalike",
   "current_citInitial": 1,
   "eqLabelWithNumbers": true,
   "eqNumInitial": 1,
   "hotkeys": {
    "equation": "Ctrl-E",
    "itemize": "Ctrl-I"
   },
   "labels_anchors": false,
   "latex_user_defs": false,
   "report_style_numbering": false,
   "user_envs_cfg": false
  },
  "toc": {
   "base_numbering": 1,
   "nav_menu": {},
   "number_sections": false,
   "sideBar": true,
   "skip_h1_title": false,
   "title_cell": "Table of Contents",
   "title_sidebar": "Contents",
   "toc_cell": false,
   "toc_position": {},
   "toc_section_display": true,
   "toc_window_display": false
  },
  "vscode": {
   "interpreter": {
    "hash": "be4bda19c4aee5f92c53d0a3cf62a580cb02c1775aa7b9559728ae7c2c8197d9"
   }
  }
 },
 "nbformat": 4,
 "nbformat_minor": 2
}
